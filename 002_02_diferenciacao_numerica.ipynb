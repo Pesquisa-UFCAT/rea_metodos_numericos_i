{
  "nbformat": 4,
  "nbformat_minor": 0,
  "metadata": {
    "colab": {
      "provenance": []
    },
    "kernelspec": {
      "name": "python3",
      "display_name": "Python 3"
    },
    "language_info": {
      "name": "python"
    }
  },
  "cells": [
    {
      "cell_type": "markdown",
      "source": [
        "# **Diferenciação Númerica**"
      ],
      "metadata": {
        "id": "V4paeO54ncki"
      }
    },
    {
      "cell_type": "markdown",
      "source": [
        "## Bibliotecas para funcionamento"
      ],
      "metadata": {
        "id": "B7LfUkyinq_r"
      }
    },
    {
      "cell_type": "code",
      "source": [
        "import gdown"
      ],
      "metadata": {
        "id": "dBiu8v8cnnpJ"
      },
      "execution_count": null,
      "outputs": []
    },
    {
      "cell_type": "markdown",
      "source": [
        "## Arquivos externos usados no notebook para *download*"
      ],
      "metadata": {
        "id": "Bpi2dUfRnwvm"
      }
    },
    {
      "cell_type": "code",
      "source": [
        "# file_id = '1V4DnrvWWoqaZC9je37UxLH7x80ME1QFq'\n",
        "# url = f'https://drive.google.com/uc?export=download&id={file_id}'\n",
        "# gdown.download(url, 'sample_data/imagem.png', quiet=True)\n",
        "# print(\"Todas as figuras foram baixadas!\")"
      ],
      "metadata": {
        "id": "0tMQFgE4nybg"
      },
      "execution_count": null,
      "outputs": []
    },
    {
      "cell_type": "markdown",
      "source": [
        "## **Introdução**"
      ],
      "metadata": {
        "id": "0lvN7KQ9n0qW"
      }
    },
    {
      "cell_type": "markdown",
      "source": [
        "Nesta seção falaremos sobre um modelo de diferenciação numérica. Onde nosso objetivo é dada uma função $ e=f(x)$.  \n",
        "  \n",
        "Precisamos determinar a derivada no ponto $x=xk$. Ou seja, vamos construir uma aproximação da função na funcionalidade de $xk$.    \n",
        "  \n",
        "A derivada é uma ferramenta importante e com grande frequência aparece na solução de problemas em ciências exatas e tecnológicas. Muitos destes modelos são expressos em termos de taxa. São exemplos destes tipos de problemas: (a) condução de calor, (b) corrente em um capacitor, (c) energia de um sistema mecânico [1].  "
      ],
      "metadata": {
        "id": "ezpyU5dIn_tt"
      }
    },
    {
      "cell_type": "markdown",
      "source": [
        "## **Diferenças Finitas**"
      ],
      "metadata": {
        "id": "dbtA3XCOpG-1"
      }
    },
    {
      "cell_type": "markdown",
      "source": [
        "A aproximação de uma derivada pode ser dada por:  \n",
        "  \n",
        "$$\n",
        "\\frac{d f(x)}{d x}\\big|_{x=a}=f^{\\prime}(a)=\\lim _{x \\rightarrow a} \\frac{f(x)-f(a)}{x-a}\\tag{1}\n",
        "$$  \n",
        "  \n",
        "À medida que x se aproxima de aa precisão da derivação aumenta. Para então escrever modelos de aproximação vamos empregar a expansão da série de Taylor.   \n",
        "    \n",
        "$$  \n",
        "f(x)=\\sum_{n=0}^{\\infty} a_n \\cdot(x-a)^n\\tag{2}\n",
        "$$  \n",
        "    \n",
        "$$  \n",
        "a_n=f^{(n)}(a) / n!\\tag{3}\n",
        "$$  \n",
        "    \n",
        "Portanto para obter a aproximação de $f'(x_{i+1})$ como o polinômio de Taylor. Para isso considere que $h=x_{i+1}-x_i$    \n",
        "  \n",
        "$$ f(x_{i+1}) \\approx f(x_i)+f^{\\prime}(x_i) \\frac{h^1}{1!}+f^{\\prime \\prime}(x_i) \\frac{h^2}{2!}+f^{\\prime \\prime \\prime}(x_i) \\frac{h^3}{3!}\n",
        "+f^{\\prime \\prime \\prime \\prime}(x_i) \\frac{h^4}{4!} +\\ldots                                \\tag{4} $$   \n",
        "  \n",
        "Empregando dois termos e um resíduo é possível chegar a:    \n",
        "  \n",
        "$$ f^{\\prime}(x_i)=\\frac{f(x_{i+1})-f(x_i)}{h}-f^{\\prime \\prime}(x_i) \\frac{h}{2!}  \\tag{5} $$  \n",
        "    \n",
        "Onde $f^{\\prime \\prime}(x_i) \\frac{h}{2!}$ É dado como o erro de truncamento da série.  \n",
        "    \n",
        "Vamos empregar esta aproximação para cálculo da derivada de $f(x)=\\ln x$  no ponto $x = 1,80$.    \n",
        "Para isso vamos considerar o parâmetro $h = 0,10, 0,01$ e $0,001$.    \n",
        "    \n",
        "Aplicando a equação (5) chegamos em:  \n",
        "\n",
        "   \n",
        "$$  \n",
        "f^{\\prime}(1,80) \\cong \\frac{\\ln (1,80+0,10)-\\ln (1,80)}{0,10}=0,540672\n",
        "$$  \n",
        "    \n",
        "$$  \n",
        "f^{\\prime}(1,80) \\cong \\frac{\\ln (1,80+0,010)-\\ln (1,80)}{0,010}=0,554018\n",
        "$$  \n",
        "    \n",
        "$$  \n",
        " f^{\\prime}(1,80) \\cong \\frac{\\ln (1,80+0,0010)-\\ln (1,80)}{0,0010}=0,555401\n",
        "$$   \n",
        "    \n",
        "\n",
        "\n",
        "\n"
      ],
      "metadata": {
        "id": "XJTFvDDkpKnL"
      }
    },
    {
      "cell_type": "markdown",
      "source": [
        "## **Exemplo 1.1**"
      ],
      "metadata": {
        "id": "GIt_FXHCvOeV"
      }
    },
    {
      "cell_type": "markdown",
      "source": [
        "Exemplo 1.1: Dada as funções $f(x)$ apresentadas em $a$  e  $b$ determinar o valor da derivada numérica nos pontos informados.   \n",
        "  \n",
        "  \n",
        "$f(x)= ( x^3)$  , $x = 3$    a)  \n",
        "  \n",
        "  \n",
        "$f(x)=sen x$ , $x=\\frac{π}{3}$    b)    \n",
        "     \n",
        "  \n",
        "      \n",
        "**Solução a)**  \n",
        "    \n",
        "  \n",
        "$$\n",
        "f(x) = x^3 \\Rightarrow f(3) = 27\n",
        "$$\n",
        "  \n",
        "Com $h=0,1$:  \n",
        "  \n",
        "$$f(3,1)=(3,1)^3=29,791$$\n",
        "  \n",
        "$$  \n",
        "f^{\\prime}(3) \\approx \\frac{29,791-27}{0,1}=27,91\n",
        "$$   \n",
        "    \n",
        "Com $h=0,01$:    \n",
        "    \n",
        "$$f(3,01)=(3,01)^3=27,270901$$\n",
        "$$f^{\\prime}(3) \\approx \\frac{27,270901-27}{0,01}=27,0901$$  \n",
        "    \n",
        "Com $h=0,001$:    \n",
        "    \n",
        "$$f(3,001)=(3,001)^3=27,027009$$   \n",
        "$$f^{\\prime}(3) \\approx \\frac{27,027009-27}{0,001}=27,009$$\n",
        "  \n",
        "  \n",
        "**Solução b)**  \n",
        "  \n",
        "$$ f(x)=sen(x) \\Rightarrow f\\left(\\frac{\\pi}{3}\\right)=sen \\left(\\frac{\\pi}{3}\\right)=\\frac{\\sqrt{3}}{2} \\approx 0,8660\n",
        "$$\n",
        "  \n",
        "Com $h=0,1$:  \n",
        "  \n",
        "$$\n",
        "x=\\frac{\\pi}{3}+0,1 \\approx 1,1472, \\quad sen (1,1472) \\approx 0,9096\n",
        "$$\n",
        "  \n",
        "  \n",
        "$$\n",
        "f^{\\prime} \\approx \\frac{0,9096-0,8660}{0,1}=0,436\n",
        "$$\n",
        "  \n",
        "Com $h=0,01$:  \n",
        "  \n",
        "$$\n",
        "x = 1{,}0572, \\quad sen(1{,}0572) \\approx 0{,}8699 \\\\\n",
        "f'(x) \\approx \\frac{0{,}8699 - 0{,}8660}{0{,}01} = 0{,}39\n",
        "$$\n",
        "  \n",
        "Com $h=0,001$:  \n",
        "  \n",
        "$$\n",
        "x = 1{,}0482, \\quad sen(1{,}0482) \\approx 0{,}8662 \\\\\n",
        "f'(x) \\approx \\frac{0{,}8662 - 0{,}8660}{0{,}001} = 0{,}2\n",
        "$$\n",
        "  \n"
      ],
      "metadata": {
        "id": "AbuZmCnLvX5u"
      }
    },
    {
      "cell_type": "markdown",
      "source": [
        "## Referências"
      ],
      "metadata": {
        "id": "1xBAzqfVxdEU"
      }
    },
    {
      "cell_type": "markdown",
      "source": [
        "[1] Gilat A, Suramanian V. Métodos numéricos para engenheiros e cientistas: uma introdução com aplicações usando o MATLAB. 2008."
      ],
      "metadata": {
        "id": "Uwwf1pfbxgLK"
      }
    }
  ]
}