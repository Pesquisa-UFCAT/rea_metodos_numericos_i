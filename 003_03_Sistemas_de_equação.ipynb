{
  "nbformat": 4,
  "nbformat_minor": 0,
  "metadata": {
    "colab": {
      "provenance": []
    },
    "kernelspec": {
      "name": "python3",
      "display_name": "Python 3"
    },
    "language_info": {
      "name": "python"
    }
  },
  "cells": [
    {
      "cell_type": "markdown",
      "source": [
        "# **Sistema de Equações**"
      ],
      "metadata": {
        "id": "SMbX0tYZ64Xx"
      }
    },
    {
      "cell_type": "markdown",
      "source": [
        "## Bibliotecas para funcionamento"
      ],
      "metadata": {
        "id": "BRp1mhou7Igz"
      }
    },
    {
      "cell_type": "code",
      "source": [
        "import gdown"
      ],
      "metadata": {
        "id": "lB5WKZm07PBh"
      },
      "execution_count": null,
      "outputs": []
    },
    {
      "cell_type": "markdown",
      "source": [
        "## Arquivos externos usados no notebook para *download*"
      ],
      "metadata": {
        "id": "v0PhGbff7Mw7"
      }
    },
    {
      "cell_type": "code",
      "source": [
        "# file_id = '1V4DnrvWWoqaZC9je37UxLH7x80ME1QFq'\n",
        "# url = f'https://drive.google.com/uc?export=download&id={file_id}'\n",
        "# gdown.download(url, 'sample_data/imagem.png', quiet=True)\n",
        "# print(\"Todas as figuras foram baixadas!\")"
      ],
      "metadata": {
        "id": "dmdB9XeN7W9_"
      },
      "execution_count": null,
      "outputs": []
    },
    {
      "cell_type": "markdown",
      "source": [
        "## **Introdução**\n",
        "\n",
        "\n"
      ],
      "metadata": {
        "id": "WGecOgdT7YnV"
      }
    },
    {
      "cell_type": "markdown",
      "source": [
        "Em diversos problemas no campo das ciências aplicadas é comum a escrita das informações do problema por meio das equações . Sendo que estas equações podem interagir, sendo complementares entre outras possibilidades.\n",
        "\n",
        "Saber que uma descoberta é uma expressão algébrica de igualdade entre variáveis é essencial para que se conheça maneiras de resolver este tipo de descoberta ou sistema de equações. Portanto, esse capítulo tem como foco o aprendizado de técnicas numéricas que permitem a resolução de sistemas de equações."
      ],
      "metadata": {
        "id": "3YVVqy3p6-7r"
      }
    },
    {
      "cell_type": "markdown",
      "source": [
        "## **Exemplos de sistemas de equações possíveis:**\n"
      ],
      "metadata": {
        "id": "pM5qklMR7oNh"
      }
    },
    {
      "cell_type": "markdown",
      "source": [
        "*   Sistemas de equações lineares;\n",
        "*   Sistemas de equações não lineares;\n",
        "*  Sistema de equações diferenciais.\n",
        "*  Sistemas de equações integrais.\n"
      ],
      "metadata": {
        "id": "3dgCo6fr7pVe"
      }
    },
    {
      "cell_type": "markdown",
      "source": [
        "## **Os sistemas lineares:**"
      ],
      "metadata": {
        "id": "uce-hRki77cz"
      }
    },
    {
      "cell_type": "markdown",
      "source": [
        "Antes de iniciarmos o processo de compreensão dos modelos possíveis para solução de um sistema de equações é necessário compreender como é o formato de uma pesquisa linear.  \n",
        "  \n",
        "$( a_1 \\cdot x_1 + a_2 \\cdot x_2 + \\cdots + a_{n-1} \\cdot x_{n-1} + a_n \\cdot x_n = b \t\\tag{1}$\n",
        "\n",
        "Onde: $(a_1,… ,a_n)$ representam os coeficientes $(Conjunto dos R)$; $(x_1,… ,x_n)$ representam as variáveis; ebo termo independente da pesquisa linear. De uma forma geral podemos escrever que um sistema linear é representado pela pesquisa (2). Neste caso $(A)$ pode ser representado por uma matriz de coeficientes e também conhecido como o operador de transformação linear, $(x)$ é o vetor que contém as informações que se deseja determinar $(b)$ e o vetor de termos independentes.  \n",
        "\n",
        "\n",
        "$(A \\cdot x = b)\t\\tag{2}$  \n",
        "\n",
        "  \n",
        "$\\begin{cases} 3 \\cdot x_1 + 2 \\cdot x_2 = 18 \\\\ -1 \\cdot x_1 + 2 \\cdot x_2 = 2^{1} \\end{cases} \t\\tag{3}$  \n",
        "\n",
        "\n",
        "\n",
        "$$\n",
        "\\left[\n",
        "\\begin{array}{cc|c}\n",
        "3 & 2 & 18 \\\\\n",
        "-1 & 2 & 2\n",
        "\\end{array}\n",
        "\\right]\n",
        "\\quad\n",
        "$$  \n",
        "\n",
        "  \n",
        "$$  \n",
        "A = \\begin{bmatrix} 3 & 2 \\\\ -1 & 2 \\end{bmatrix}\n",
        "\\quad\n",
        "$$    \n",
        "\n",
        "  \n",
        "$$  \n",
        "x = \\begin{bmatrix} x_1 \\\\ x_2 \\end{bmatrix}\n",
        "\\quad\n",
        "b = \\begin{bmatrix} 18 \\\\ 2 \\end{bmatrix}\n",
        "$$\n",
        "\n",
        "  \n",
        "\n",
        "A equação homogênea é aquela onde o termo independente $(b = 0)$."
      ],
      "metadata": {
        "id": "OpQzsHNV8vpj"
      }
    },
    {
      "cell_type": "markdown",
      "source": [
        "## **Solução gráfica do sistema de equações**"
      ],
      "metadata": {
        "id": "rpkwniDbAtcO"
      }
    },
    {
      "cell_type": "markdown",
      "source": [
        "Chapra [1] afirma que o método gráfico é uma “boa” forma de resolver conjunto de equações de pequena ordem $(n ≤ 3)$. Pois em um sistema de equações $(n × n)$ cada representa um plano de dimensão $(n-1)$ inserido no $(ℝ^n)$.  \n",
        "  \n",
        "No exemplo anterior escrever as equações em termos de $(x_2)$:  \n",
        "  \n",
        "$\n",
        "\\begin{cases} x_2 = - \\frac{3}{2} + 9x_2 = \\frac{1}{2}x_1 + 1 \\\\ x_2 = \\frac{1}{2} x_1 + 1 \\end{cases} \\tag{1}$  \n",
        "  \n",
        "**Figura 1.** Solução gráfica do conjunto de duas equações (sistema possível e determinado).   \n",
        "  \n",
        "<img src=\"https://github.com/Pesquisa-UFCAT/rea_metodos_numericos_i/raw/main/003_03_sistemas_de_equa%C3%A7%C3%B5es/figura1aula3.jpeg\" alt=\"Descrição da imagem\" width=\"70%\">\n",
        "  \n",
        "**Figura 2.** Solução gráfica para um sistema impossível.  \n",
        "  \n",
        "<img src=\"https://github.com/Pesquisa-UFCAT/rea_metodos_numericos_i/raw/main/003_03_sistemas_de_equa%C3%A7%C3%B5es/figura2aula3.jpeg\" alt=\"Descrição da imagem\" width=\"70%\">\n",
        "  \n",
        "**Figura 3.** Solução gráfica para um sistema possível e indeterminado.  \n",
        "  \n",
        "<img src=\"https://github.com/Pesquisa-UFCAT/rea_metodos_numericos_i/raw/main/003_03_sistemas_de_equa%C3%A7%C3%B5es/figura3aula3.jpeg\" alt=\"Descrição da imagem\" width=\"70%\">  \n",
        "  \n",
        "Para o caso de sistemas com um número de propostas relativamente maior é necessário o uso de outros processos.  \n",
        "  \n",
        "**Métodos Diretos :** O termo método direto refere-se às técnicas que, na ausência de erros de arredondamento e após um determinado número finito de iterações é capaz de calcular a solução exata do sistema linear , caso ela exista.  \n",
        "  \n",
        "**Métodos Iterativos :** Métodos iterativos consistem em sequências de aproximação do vetor solução $(x)$ a partir de um valor inicial $(x^{0})$. O processo se repete até que a desigualdade $(5)$ seja respeitada para um valor de serviço é suficientemente pequeno.  \n",
        "  \n",
        "$(r < |b - A \\cdot x|)$  \n",
        "   \n",
        "  \n"
      ],
      "metadata": {
        "id": "OrY0xjTXEvIV"
      }
    },
    {
      "cell_type": "markdown",
      "source": [
        "## **Referências**"
      ],
      "metadata": {
        "id": "yZ9OsR4oKQSh"
      }
    },
    {
      "cell_type": "markdown",
      "source": [
        "[1] Chapra SC. Métodos Numéricos Aplicados com MATLAB® para Engenheiros e Cientistas. 3ª edição. AMGH; 2013."
      ],
      "metadata": {
        "id": "ciFejclJKTNN"
      }
    }
  ]
}