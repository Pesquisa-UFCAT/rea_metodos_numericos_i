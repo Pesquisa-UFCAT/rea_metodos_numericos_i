{
  "nbformat": 4,
  "nbformat_minor": 0,
  "metadata": {
    "colab": {
      "provenance": []
    },
    "kernelspec": {
      "name": "python3",
      "display_name": "Python 3"
    },
    "language_info": {
      "name": "python"
    }
  },
  "cells": [
    {
      "cell_type": "markdown",
      "source": [
        "# **Integração numérica**"
      ],
      "metadata": {
        "id": "k8cUdNlHUK0E"
      }
    },
    {
      "cell_type": "markdown",
      "source": [
        "## Bibliotecas para funcionamento"
      ],
      "metadata": {
        "id": "2tjOTvo1VpFa"
      }
    },
    {
      "cell_type": "code",
      "source": [
        "import gdown"
      ],
      "metadata": {
        "id": "cWUbLTO0YWLH"
      },
      "execution_count": null,
      "outputs": []
    },
    {
      "cell_type": "markdown",
      "source": [
        "\n",
        "## Arquivos externos usados no notebook para *download*"
      ],
      "metadata": {
        "id": "Auy_d4FtYXug"
      }
    },
    {
      "cell_type": "code",
      "source": [
        "# file_id = '1V4DnrvWWoqaZC9je37UxLH7x80ME1QFq'\n",
        "# url = f'https://drive.google.com/uc?export=download&id={file_id}'\n",
        "# gdown.download(url, 'sample_data/imagem.png', quiet=True)\n",
        "# print(\"Todas as figuras foram baixadas!\")"
      ],
      "metadata": {
        "id": "HsGwQy6NUw5m"
      },
      "execution_count": null,
      "outputs": []
    },
    {
      "cell_type": "markdown",
      "source": [
        "\n",
        "\n",
        "## **Introdução**"
      ],
      "metadata": {
        "id": "1V9pZyEjZQWC"
      }
    },
    {
      "cell_type": "markdown",
      "source": [
        "A integração numérica consiste na aplicação de métodos numéricos para determinação de integrais definidas. Este método é utilizado por diversas áreas do conhecimento como por exemplo em elementos finitos, termodinâmica e  simulação de Monte Carlo.    \n",
        "  \n",
        "Em suma determinaremos um número $I$ que corresponde à uma integral de uma função $f(x)$ entre os limites $a$ e $b$.  \n",
        "  \n",
        "Os métodos mais conhecidos de integração numérica consistem na divisão do domínio $[a, b]$ em retângulos como mostrado na **Figura 1** que apresenta o método do ponto central composto.  \n",
        "  \n",
        "**Figura 1.** Integração numérica empregando o método do ponto central [1].\n",
        "\n",
        "<img src=\"https://github.com/Pesquisa-UFCAT/rea_metodos_numericos_i/raw/main/imgs/integral/001_01_integral_numerica_quadraturas/fig1.png\" alt=\"Descrição da imagem\" width=\"55%\">\n"
      ],
      "metadata": {
        "id": "vEAlZmaQZikR"
      }
    },
    {
      "cell_type": "markdown",
      "source": [
        "## **Quadratura de Gauss**"
      ],
      "metadata": {
        "id": "kFJG3A6wyRBD"
      }
    },
    {
      "cell_type": "markdown",
      "source": [
        "\n",
        "  \n",
        "A quadratura de Gauss é um dos métodos mais empregados para solução numérica de integrais. Tal método consiste em uma soma ponderada. Portanto a sua forma geral é dada pela equação (1):  \n",
        "  \n",
        "$$\n",
        "\\int_a^b f(x)\\, dx \\approx \\sum_{i=1}^n C_i \\cdot f(x_i) \\tag{1}\n",
        "$$\n",
        "  \n",
        "Onde $C_i$ representa o vetor de pesos e $x_i$ os pontos de Gauss no intervalo $[a, b]$. Portanto na forma estendida temos:  \n",
        "  \n",
        "$$\n",
        "\\int_a^b f(x) d x \\approx C_1 \\cdot f\\left(x_1\\right)+C_2 \\cdot f\\left(x_2\\right)+\\ldots+C_n \\cdot f\\left(x_n\\right) \\tag{2}\n",
        "$$\n",
        "  \n",
        "O conjunto de pesos $C_i$ é dado por meio de tabelas encontradas em diversas fontes. Estes pesos são determinados fazendo com que a equação (1) seja exata quando $f(x) = 1,x,x^2,x^3$, etc e com intervalo de $[-1, 1]$. Portanto ao aplicar o método da Quadratura de Gauss é necessário transformar o domínio da integração. Para isso aplicaremos a equação (3):  \n",
        "  \n",
        "$$\n",
        "\\int_a^b f(x) d x \\approx \\int_{-1}^1 f\\left(\\frac{(b-a) t+a+b}{2}\\right) \\frac{(b-a)}{2} d t \\tag{3}\n",
        "$$\n",
        "  \n",
        "**Tabela 1.** Tabela dos pesos e pontos de Gauss [1]\n",
        "                \n",
        "<img src=\"https://github.com/Pesquisa-UFCAT/rea_metodos_numericos_i/raw/main/imgs/integral/001_01_integral_numerica_quadraturas/tabela%201.png\" alt=\"Descrição da imagem\" width=\"60%\">\n",
        "\n",
        "    \n",
        "Vamos aplicar essa transformação de domínio na integral $\\int_0^3 e{-x^2} dx$:    \n",
        "  \n",
        "  \n",
        "\n",
        "$$\n",
        "x = \\frac{1}{2}(t \\cdot(b-a)+a+b) = \\frac{1}{2}(t \\cdot(3-0)+0+3) = \\frac{3}{2}(t+1)\n",
        "$$\n",
        "  \n",
        "  \n",
        "$$\n",
        "dx = \\frac{1}{2}(b-a) dt = \\frac{1}{2}(3-0) dt = \\frac{3}{2} dt\n",
        "$$\n",
        "  \n",
        "$$\n",
        "\\int_0^3 e^{-x^2} dx = \\int_{-1}^1 \\frac{3}{2} e^{-[\\frac{3}{2}(t+1)]^2} dt\n",
        " $$\n",
        "\n",
        "    \n"
      ],
      "metadata": {
        "id": "6SAH--61cLYC"
      }
    },
    {
      "cell_type": "markdown",
      "source": [
        "## **Exemplo 1.1**"
      ],
      "metadata": {
        "id": "2IOYMzd_zftP"
      }
    },
    {
      "cell_type": "markdown",
      "source": [
        "Exemplo 1.1: Dada as funções $f(x)$ apresentadas em a e b determinar o valor da integral nos intervalos informados.  \n",
        "  \n",
        "    \n",
        "$f(x) = e^{-x^2}$ $[1,1.5]$  a)  \n",
        "\n",
        "$f(x)=\\frac{1}{x}$ $[3,3.6]$ b)  \n",
        "  \n",
        "\n",
        "**Resolução do exemplo $a$:**    \n",
        "  \n",
        "  \n",
        "$$\n",
        " x=12(t \\cdot(b-a)+a+b)=12(t \\cdot(1,5-1)+1,5+1)=12 x=\\frac{1}{2}(t \\cdot(b-a)+a+b)=\\frac{1}{2}(0,50 \\cdot t+2,50)= frac{1}{4} \\cdot t+\\frac{5}{4}=\\frac{1}{4}(t+5)\n",
        " $$\n",
        "  \n",
        " $$\n",
        "d x=\\frac{1}{2}(b-a) d t=\\frac{1}{2}(1,5-1) d t=\\frac{1}{4} d t\n",
        "$$\n",
        "  \n",
        "Ponto 1 de Gauss $(t_i = -0,57735027, w_i =1)$   \n",
        "  \n",
        "$$\n",
        "\\frac{1}{4} \\cdot e^{-t_1{ }^2}=\\frac{1}{4} \\cdot e^{-(\\frac{1}{4}(-0,57735027+5))^2}=\\frac{1}{4} \\cdot e^{-(1,1057)^2}\n",
        " $$\n",
        "  \n",
        " $$\n",
        "\\frac{1}{4} \\cdot e^{-t_1{ }^2}=\\frac{1}{4} \\cdot e^{-(\\frac{1}{4}(+0,57735027+5))^2}=\\frac{1}{4} \\cdot e^{-(1,3943)^2}\n",
        "$$\n",
        "  \n",
        "**Resolução do exemplo $b$:**      \n",
        "  \n",
        "$$\n",
        "x=x=\\frac{1}{2}(t \\cdot(3.6-3)++3+3.6)=12 x=\\frac{1}{2}(t \\cdot(b-a)+a+b)=\\frac{1}{2}(0.6 \\cdot t+6.6)= (0.3\\cdot t+3.3)\n",
        " $$\n",
        "  \n",
        " $$\n",
        "d x=\\frac{1}{2}(b-a) d t=\\frac{1}{2}(0.6) d t=0.3 d t\n",
        "$$\n",
        "  \n",
        "Ponto 1 de Gauss $(t_i = -0,57735027, w_i =1)$  \n",
        "  \n",
        "$$\n",
        "0,3 \\cdot(-0,57735027+11) \\div 10=0,3 \\cdot(t_1+11) \\div 10=3,12679492\n",
        " $$\n",
        "  \n",
        " $$\n",
        "f(x_1)=\\frac{1}{3,12679492}\n",
        " $$\n",
        "  \n",
        " $$\n",
        "0,3 \\cdot(+0,57735027+11) \\div 10=3,47320508\n",
        " $$\n",
        "  \n",
        " $$\n",
        "f(x_2)=\\frac{1}{3,47320508}\n",
        "$$"
      ],
      "metadata": {
        "id": "zlIIRlQLzi7f"
      }
    },
    {
      "cell_type": "markdown",
      "source": [
        "## Referências"
      ],
      "metadata": {
        "id": "icpy8Hjzb0rd"
      }
    },
    {
      "cell_type": "markdown",
      "source": [
        "[1]\tGilat A, Suramanian V. Métodos numéricos para engenheiros e cientistas: uma introdução com aplicações usando o MATLAB. 2008.  \n",
        "\n",
        "[2]\tChapra SC, Canale RP. Métodos numéricos para engenharia. 2011."
      ],
      "metadata": {
        "id": "C6tgIz3nbwxa"
      }
    }
  ]
}